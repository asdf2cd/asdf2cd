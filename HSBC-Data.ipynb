{
  "nbformat": 4,
  "nbformat_minor": 0,
  "metadata": {
    "colab": {
      "provenance": [],
      "gpuType": "T4"
    },
    "kernelspec": {
      "name": "python3",
      "display_name": "Python 3"
    },
    "language_info": {
      "name": "python"
    },
    "accelerator": "GPU"
  },
  "cells": [
    {
      "cell_type": "code",
      "source": [
        "import os\n",
        "import requests\n",
        "\n",
        "from bs4 import BeautifulSoup"
      ],
      "metadata": {
        "id": "EO2jaeT_wAOh"
      },
      "execution_count": null,
      "outputs": []
    },
    {
      "cell_type": "code",
      "source": [
        "category_faq_url_dict = {\n",
        "    \"我想要进行国内外转账及汇款\": {\n",
        "        \"国内外转账及汇款\": \"https://www.hsbc.com.cn/help/faqs/transfer-and-payment/\",\n",
        "        \"转账及汇款\": \"https://www.hsbc.com.cn/transfer-payments/faq/\",\n",
        "    },\n",
        "    \"我在使用个人网上银行、手机银行和微信服务号中碰到了疑难杂症，怎么办？\": {\n",
        "        \"手机/微信银行\": \"https://www.hsbc.com.cn/help/faqs/digital-banking/\",\n",
        "        \"个人网上银行\": \"https://www.hsbc.com.cn/ways-to-bank/online/faq/\",\n",
        "    },\n",
        "    \"我想要轻松管理账户、查看账单、了解服务费率及使用我的积分\": {\n",
        "        \"账户服务\": \"https://www.hsbc.com.cn/help/faqs/accounts/\",\n",
        "        # \"账户及账单通知\": \"https://www.hsbc.com.cn/ways-to-bank/online/faq/#notice\",\n",
        "        \"汇丰卓越理财\": \"https://www.hsbc.com.cn/premier/faq/\",\n",
        "    },\n",
        "    \"我有外汇、投资及保险的问题\": {\n",
        "        \"外汇、投资及保险\": \"https://www.hsbc.com.cn/help/faqs/investments-and-wealth-management/\",\n",
        "        \"投资\": \"https://www.hsbc.com.cn/investments/faq/\",\n",
        "        \"保险产品及服\": \"https://www.hsbc.com.cn/insurance/faq/\",\n",
        "    },\n",
        "    \"我想了解银行存款、个人住房贷款等问题\": {\n",
        "        \"银行存款、个人住房贷款\": \"https://www.hsbc.com.cn/help/faqs/deposit-and-mortgage/\",\n",
        "        \"存款服务\": \"https://www.hsbc.com.cn/deposits/faq/\",\n",
        "        \"个人住房贷款\": \"https://www.hsbc.com.cn/mortgages/faq/\",\n",
        "        # \"个人住房贷款商品介绍\": \"https://www.hsbc.com.cn/mortgages/products/home/\", # not qa\n",
        "    },\n",
        "    \"我想了解信用卡使用、额度管理、年费收取及信用卡积分等问题\": {\n",
        "        \"信用卡\": \"https://www.hsbc.com.cn/help/faqs/credit-cards/\",\n",
        "        \"卡片申请\": \"https://www.hsbc.com.cn/credit-cards/faq/apply/\",\n",
        "        \"办卡进度\": \"https://www.hsbc.com.cn/credit-cards/faq/progress/\",\n",
        "        \"卡片激活\": \"https://www.hsbc.com.cn/credit-cards/faq/activation/\",\n",
        "        \"卡片管理\": \"https://www.hsbc.com.cn/credit-cards/faq/how-to-use/\",\n",
        "        \"查账还款\": \"https://www.hsbc.com.cn/credit-cards/faq/pay-statement/\",\n",
        "        \"额度管理\": \"https://www.hsbc.com.cn/credit-cards/faq/limit/\",\n",
        "        \"我的积分\": \"https://www.hsbc.com.cn/credit-cards/faq/my-points/\",\n",
        "        \"安全设置\": \"https://www.hsbc.com.cn/credit-cards/faq/safety/\",\n",
        "        \"账户管理\": \"https://www.hsbc.com.cn/credit-cards/faq/account-management/\",\n",
        "        \"分期管理\": \"https://www.hsbc.com.cn/credit-cards/faq/instalment-management/\",\n",
        "        \"账单分期\": \"https://www.hsbc.com.cn/credit-cards/faq/bill-instalment/\",\n",
        "        \"交易分期\": \"https://www.hsbc.com.cn/credit-cards/faq/transaction-instalment/\",\n",
        "        \"现金分期\": \"https://www.hsbc.com.cn/credit-cards/faq/cash-instalment/\",\n",
        "        \"自动交易分期\": \"https://www.hsbc.com.cn/credit-cards/faq/auto-instalment/\",\n",
        "        \"汇享分\": \"https://www.hsbc.com.cn/credit-cards/faq/additional-instalment-payment/\",\n",
        "        \"荟享贷\": \"https://www.hsbc.com.cn/credit-cards/faq/aloc/\",\n",
        "        # \"商户分期\": \"https://www.hsbc.com.cn/credit-cards/\", # issue\n",
        "    },\n",
        "}"
      ],
      "metadata": {
        "id": "91PDurqzS5Gy"
      },
      "execution_count": null,
      "outputs": []
    },
    {
      "cell_type": "code",
      "source": [
        "def parse_element(element):\n",
        "    try:\n",
        "        question = element.find(\"h2\", class_=\"dropdown-text\")\n",
        "        question = question.text.strip()\n",
        "    except:\n",
        "        try:\n",
        "            question = element.find(\"h3\", class_=\"dropdown-text\")\n",
        "            question = question.text.strip()\n",
        "        except:\n",
        "            question = None\n",
        "    try:\n",
        "        answer = element.find(\"div\", class_=\"M-CONTMAST-RW-RBWM O-SMARTSPCGEN-DEV rich-text\")\n",
        "        answer = answer.text.strip()\n",
        "    except:\n",
        "        answer = None\n",
        "    return question, answer\n",
        "\n",
        "def parse_url(url):\n",
        "    html_doc = requests.get(f\"{url}\")\n",
        "    soup = BeautifulSoup(html_doc.text, 'html.parser')\n",
        "    elements = soup.find_all(\"div\", class_=\"O-SMARTSPCGEN-DEV O-ADVEXP-RW-RBWM row\")\n",
        "    qas = []\n",
        "    for element in elements:\n",
        "        q, a = parse_element(element)\n",
        "        if q and a:\n",
        "            qas.append((q,a))\n",
        "    return qas"
      ],
      "metadata": {
        "id": "BHL2q2vBrtZu"
      },
      "execution_count": null,
      "outputs": []
    },
    {
      "cell_type": "code",
      "source": [
        "def scrape_qas(category_faq_url_dict):\n",
        "    total = 0\n",
        "    results = {}\n",
        "    for category,url_dict in category_faq_url_dict.items():\n",
        "        results[category] = {}\n",
        "        for sub_category,url in url_dict.items():\n",
        "            qas = parse_url(url)\n",
        "            results[category][sub_category] = qas\n",
        "            total += len(qas)\n",
        "            print(f\"category: {category}, sub_category: {sub_category}, num: {len(qas)}, url: {category_faq_url_dict[category][sub_category]}\")\n",
        "    print(f\"total: {total}\")\n",
        "    return results"
      ],
      "metadata": {
        "id": "uIERjzyXr20Q"
      },
      "execution_count": null,
      "outputs": []
    },
    {
      "cell_type": "code",
      "source": [
        "def dump_qa_to_file(results, output_dir):\n",
        "    os.makedirs(output_dir, exist_ok=True)\n",
        "    for category,qa_dict in results.items():\n",
        "        file = f\"{output_dir}/{category}.txt\"\n",
        "        with open(file, \"w\") as f:\n",
        "            for sub_category,qas in qa_dict.items():\n",
        "                f.write(f\"### {sub_category}\\n\\n\")\n",
        "                for q,a in qas:\n",
        "                    f.write(f\"Question: {q}\\n\")\n",
        "                    f.write(f\"Answer: {a}\\n\\n\")"
      ],
      "metadata": {
        "id": "LMDufaRuwcrf"
      },
      "execution_count": null,
      "outputs": []
    },
    {
      "cell_type": "code",
      "source": [
        "results = scrape_qas(category_faq_url_dict)\n",
        "dump_qa_to_file(results, \"hsbc_faq\")"
      ],
      "metadata": {
        "colab": {
          "base_uri": "https://localhost:8080/"
        },
        "id": "_KVPRNt-4cgx",
        "outputId": "b1a12326-328e-40a5-a634-3513d2d9586e"
      },
      "execution_count": null,
      "outputs": [
        {
          "output_type": "stream",
          "name": "stdout",
          "text": [
            "category: 我想要进行国内外转账及汇款, sub_category: 国内外转账及汇款, num: 6, url: https://www.hsbc.com.cn/help/faqs/transfer-and-payment/\n",
            "category: 我想要进行国内外转账及汇款, sub_category: 转账及汇款, num: 21, url: https://www.hsbc.com.cn/transfer-payments/faq/\n",
            "category: 我在使用个人网上银行、手机银行和微信服务号中碰到了疑难杂症，怎么办？, sub_category: 手机/微信银行, num: 10, url: https://www.hsbc.com.cn/help/faqs/digital-banking/\n",
            "category: 我在使用个人网上银行、手机银行和微信服务号中碰到了疑难杂症，怎么办？, sub_category: 个人网上银行, num: 42, url: https://www.hsbc.com.cn/ways-to-bank/online/faq/\n",
            "category: 我想要轻松管理账户、查看账单、了解服务费率及使用我的积分, sub_category: 账户服务, num: 8, url: https://www.hsbc.com.cn/help/faqs/accounts/\n",
            "category: 我想要轻松管理账户、查看账单、了解服务费率及使用我的积分, sub_category: 汇丰卓越理财, num: 14, url: https://www.hsbc.com.cn/premier/faq/\n",
            "category: 我有外汇、投资及保险的问题, sub_category: 外汇、投资及保险, num: 7, url: https://www.hsbc.com.cn/help/faqs/investments-and-wealth-management/\n",
            "category: 我有外汇、投资及保险的问题, sub_category: 投资, num: 36, url: https://www.hsbc.com.cn/investments/faq/\n",
            "category: 我有外汇、投资及保险的问题, sub_category: 保险产品及服, num: 19, url: https://www.hsbc.com.cn/insurance/faq/\n",
            "category: 我想了解银行存款、个人住房贷款等问题, sub_category: 银行存款、个人住房贷款, num: 3, url: https://www.hsbc.com.cn/help/faqs/deposit-and-mortgage/\n",
            "category: 我想了解银行存款、个人住房贷款等问题, sub_category: 存款服务, num: 13, url: https://www.hsbc.com.cn/deposits/faq/\n",
            "category: 我想了解银行存款、个人住房贷款等问题, sub_category: 个人住房贷款, num: 4, url: https://www.hsbc.com.cn/mortgages/faq/\n",
            "category: 我想了解信用卡使用、额度管理、年费收取及信用卡积分等问题, sub_category: 信用卡, num: 6, url: https://www.hsbc.com.cn/help/faqs/credit-cards/\n",
            "category: 我想了解信用卡使用、额度管理、年费收取及信用卡积分等问题, sub_category: 卡片申请, num: 8, url: https://www.hsbc.com.cn/credit-cards/faq/apply/\n",
            "category: 我想了解信用卡使用、额度管理、年费收取及信用卡积分等问题, sub_category: 办卡进度, num: 2, url: https://www.hsbc.com.cn/credit-cards/faq/progress/\n",
            "category: 我想了解信用卡使用、额度管理、年费收取及信用卡积分等问题, sub_category: 卡片激活, num: 2, url: https://www.hsbc.com.cn/credit-cards/faq/activation/\n",
            "category: 我想了解信用卡使用、额度管理、年费收取及信用卡积分等问题, sub_category: 卡片管理, num: 13, url: https://www.hsbc.com.cn/credit-cards/faq/how-to-use/\n",
            "category: 我想了解信用卡使用、额度管理、年费收取及信用卡积分等问题, sub_category: 查账还款, num: 13, url: https://www.hsbc.com.cn/credit-cards/faq/pay-statement/\n",
            "category: 我想了解信用卡使用、额度管理、年费收取及信用卡积分等问题, sub_category: 额度管理, num: 7, url: https://www.hsbc.com.cn/credit-cards/faq/limit/\n",
            "category: 我想了解信用卡使用、额度管理、年费收取及信用卡积分等问题, sub_category: 我的积分, num: 6, url: https://www.hsbc.com.cn/credit-cards/faq/my-points/\n",
            "category: 我想了解信用卡使用、额度管理、年费收取及信用卡积分等问题, sub_category: 安全设置, num: 6, url: https://www.hsbc.com.cn/credit-cards/faq/safety/\n",
            "category: 我想了解信用卡使用、额度管理、年费收取及信用卡积分等问题, sub_category: 账户管理, num: 3, url: https://www.hsbc.com.cn/credit-cards/faq/account-management/\n",
            "category: 我想了解信用卡使用、额度管理、年费收取及信用卡积分等问题, sub_category: 分期管理, num: 12, url: https://www.hsbc.com.cn/credit-cards/faq/instalment-management/\n",
            "category: 我想了解信用卡使用、额度管理、年费收取及信用卡积分等问题, sub_category: 账单分期, num: 7, url: https://www.hsbc.com.cn/credit-cards/faq/bill-instalment/\n",
            "category: 我想了解信用卡使用、额度管理、年费收取及信用卡积分等问题, sub_category: 交易分期, num: 9, url: https://www.hsbc.com.cn/credit-cards/faq/transaction-instalment/\n",
            "category: 我想了解信用卡使用、额度管理、年费收取及信用卡积分等问题, sub_category: 现金分期, num: 17, url: https://www.hsbc.com.cn/credit-cards/faq/cash-instalment/\n",
            "category: 我想了解信用卡使用、额度管理、年费收取及信用卡积分等问题, sub_category: 自动交易分期, num: 7, url: https://www.hsbc.com.cn/credit-cards/faq/auto-instalment/\n",
            "category: 我想了解信用卡使用、额度管理、年费收取及信用卡积分等问题, sub_category: 汇享分, num: 10, url: https://www.hsbc.com.cn/credit-cards/faq/additional-instalment-payment/\n",
            "category: 我想了解信用卡使用、额度管理、年费收取及信用卡积分等问题, sub_category: 荟享贷, num: 17, url: https://www.hsbc.com.cn/credit-cards/faq/aloc/\n",
            "total: 328\n"
          ]
        }
      ]
    },
    {
      "cell_type": "code",
      "source": [
        "!mkdir hsbc_annual_report\n",
        "!wget https://www.about.hsbc.com.cn/-/media/china/zh-cn/financial-information/210813-hsbc-bank-china-company-limited-2019-annual-report.pdf -P hsbc_annual_report/\n",
        "!wget https://www.about.hsbc.com.cn/-/media/china/zh-cn/financial-information/hsbc-china-2020-annual-accounts.pdf -P hsbc_annual_report/\n",
        "!wget https://www.about.hsbc.com.cn/-/media/china/zh-cn/financial-information/hsbc-china-2021-annual-accounts.pdf -P hsbc_annual_report/\n",
        "!wget https://www.hsbc.com.cn/content/dam/hsbc/cn/docs/rural-bank/about-us/hsbc-china-2022-annual-accounts.pdf -P hsbc_annual_report/"
      ],
      "metadata": {
        "id": "qCiT7dQSIaQb"
      },
      "execution_count": null,
      "outputs": []
    },
    {
      "cell_type": "code",
      "source": [
        "!mkdir hsbc_product_document\n",
        "!wget https://www.hsbc.com.cn/content/dam/hsbc/cn/docs/document-download/%E5%8D%93%E8%B6%8A%E7%90%86%E8%B4%A2%E6%AC%A2%E8%BF%8E%E6%89%8B%E5%86%8C.pdf -P hsbc_product_document\n",
        "!wget https://www.hsbc.com.cn/content/dam/hsbc/cn/docs/premierelite/premierelite-welcome-cn.pdf -P hsbc_product_document\n",
        "!wget https://www.hsbc.com.cn/content/dam/hsbc/cn/docs/document-download/tariff-of-accouts-and-services.pdf -P hsbc_product_document\n",
        "!wget https://www.hsbc.com.cn/content/dam/hsbc/cn/docs/document-download/advance-welcome-guide-cn.pdf -P hsbc_product_document"
      ],
      "metadata": {
        "id": "aFfxuoa8NCd2"
      },
      "execution_count": null,
      "outputs": []
    },
    {
      "cell_type": "code",
      "source": [],
      "metadata": {
        "id": "niny7T9estN4"
      },
      "execution_count": null,
      "outputs": []
    }
  ]
}